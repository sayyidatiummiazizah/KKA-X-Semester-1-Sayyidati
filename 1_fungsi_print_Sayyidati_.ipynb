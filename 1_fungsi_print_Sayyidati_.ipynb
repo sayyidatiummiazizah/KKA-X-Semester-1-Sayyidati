{
  "cells": [
    {
      "cell_type": "markdown",
      "metadata": {
        "id": "view-in-github",
        "colab_type": "text"
      },
      "source": [
        "<a href=\"https://colab.research.google.com/github/sayyidatiummiazizah/KKA-X-Semester-1-Sayyidati/blob/main/1_fungsi_print_Sayyidati_.ipynb\" target=\"_parent\"><img src=\"https://colab.research.google.com/assets/colab-badge.svg\" alt=\"Open In Colab\"/></a>"
      ]
    },
    {
      "cell_type": "markdown",
      "metadata": {
        "id": "hwYAhxHraHp9"
      },
      "source": [
        "Menampilkan Teks Bebas"
      ]
    },
    {
      "cell_type": "code",
      "execution_count": null,
      "metadata": {
        "colab": {
          "base_uri": "https://localhost:8080/"
        },
        "id": "JtAE2mnbU3FW",
        "outputId": "d7dad116-f95f-4f11-ef60-e77a47909f6a"
      },
      "outputs": [
        {
          "name": "stdout",
          "output_type": "stream",
          "text": [
            "Halo World\n"
          ]
        }
      ],
      "source": [
        "print(\"Halo World\")"
      ]
    },
    {
      "cell_type": "markdown",
      "metadata": {
        "id": "tRt9CMjiaNvW"
      },
      "source": [
        "Menampilkan Nilai Variabel"
      ]
    },
    {
      "cell_type": "code",
      "execution_count": null,
      "metadata": {
        "colab": {
          "base_uri": "https://localhost:8080/"
        },
        "id": "bvND-f7LU3BX",
        "outputId": "ef38c014-439b-47f9-a0c8-0e8b45606afc"
      },
      "outputs": [
        {
          "name": "stdout",
          "output_type": "stream",
          "text": [
            "55\n"
          ]
        }
      ],
      "source": [
        "berat_badan = 55\n",
        "\n",
        "print(berat_badan)"
      ]
    },
    {
      "cell_type": "code",
      "execution_count": null,
      "metadata": {
        "colab": {
          "base_uri": "https://localhost:8080/"
        },
        "id": "uOxfVF8bU27_",
        "outputId": "1d296990-146c-4e78-8ef1-30cc036c2abf"
      },
      "outputs": [
        {
          "name": "stdout",
          "output_type": "stream",
          "text": [
            "Sayyidati Ummi\n"
          ]
        }
      ],
      "source": [
        "Nama = \"Sayyidati Ummi\"\n",
        "\n",
        "print(Nama)"
      ]
    },
    {
      "cell_type": "markdown",
      "metadata": {
        "id": "LCrOw7-DYwmB"
      },
      "source": []
    },
    {
      "cell_type": "markdown",
      "metadata": {
        "id": "uVN9ek4PcnlG"
      },
      "source": [
        "Menampilkan Teks Bebas Nilai Variabel"
      ]
    },
    {
      "cell_type": "code",
      "execution_count": null,
      "metadata": {
        "colab": {
          "base_uri": "https://localhost:8080/"
        },
        "id": "8sxczwajU23r",
        "outputId": "0c8674e5-2bd0-4f6d-b0e3-ec7018015a86"
      },
      "outputs": [
        {
          "name": "stdout",
          "output_type": "stream",
          "text": [
            "berat badan saya adalah 55\n"
          ]
        }
      ],
      "source": [
        "print(\"berat badan saya adalah\",berat_badan)"
      ]
    },
    {
      "cell_type": "code",
      "execution_count": null,
      "metadata": {
        "colab": {
          "base_uri": "https://localhost:8080/"
        },
        "id": "xIjxEc_AU2qt",
        "outputId": "4931c871-c4f1-4fd4-f61b-0d88e66e411f"
      },
      "outputs": [
        {
          "name": "stdout",
          "output_type": "stream",
          "text": [
            "perkenalkan nama saya\n"
          ]
        },
        {
          "data": {
            "text/plain": [
              "(None, 'Nama')"
            ]
          },
          "execution_count": 10,
          "metadata": {},
          "output_type": "execute_result"
        }
      ],
      "source": [
        "print (\"perkenalkan nama saya\"),\"Nama\""
      ]
    },
    {
      "cell_type": "code",
      "execution_count": null,
      "metadata": {
        "colab": {
          "base_uri": "https://localhost:8080/"
        },
        "id": "1Cvz_58tU16b",
        "outputId": "a2e8be9a-5cf8-4f78-886a-044889ffc55d"
      },
      "outputs": [
        {
          "name": "stdout",
          "output_type": "stream",
          "text": [
            "perkenalkan nama saya(Berat_badan)\n"
          ]
        }
      ],
      "source": [
        "print (\"perkenalkan nama saya(Berat_badan)\")"
      ]
    },
    {
      "cell_type": "markdown",
      "metadata": {
        "id": "9DP4iSz52c6O"
      },
      "source": [
        "Escape Character"
      ]
    },
    {
      "cell_type": "code",
      "execution_count": null,
      "metadata": {
        "colab": {
          "base_uri": "https://localhost:8080/"
        },
        "id": "qiAmg9Wi2hLF",
        "outputId": "92b3e296-a1f5-4911-bdb8-29ab72e11983"
      },
      "outputs": [
        {
          "name": "stdout",
          "output_type": "stream",
          "text": [
            "nama: Sayyidati Ummi\n",
            "kelas:X. 2\n",
            "No. Absen:33 \n"
          ]
        }
      ],
      "source": [
        "print (\"nama: Sayyidati Ummi\\nkelas:X. 2\\nNo. Absen:33 \")"
      ]
    },
    {
      "cell_type": "code",
      "execution_count": null,
      "metadata": {
        "colab": {
          "base_uri": "https://localhost:8080/"
        },
        "id": "WuFpfZXz2huF",
        "outputId": "0d866218-a7c9-4925-b860-44136ba88389"
      },
      "outputs": [
        {
          "name": "stdout",
          "output_type": "stream",
          "text": [
            "nama:Sayyidati Ummi\n",
            "kelas :x. 2\n",
            "no.Absen:33\n"
          ]
        }
      ],
      "source": [
        "print (\"nama:Sayyidati Ummi\")\n",
        "print (\"kelas :x. 2\")\n",
        "print (\"no.Absen:33\")"
      ]
    },
    {
      "cell_type": "code",
      "execution_count": null,
      "metadata": {
        "colab": {
          "base_uri": "https://localhost:8080/"
        },
        "id": "4KJlX13X69FW",
        "outputId": "8643b083-5192-41f4-e353-9103c8890857"
      },
      "outputs": [
        {
          "name": "stdout",
          "output_type": "stream",
          "text": [
            "Nama\t\t:Sayyidati Ummi\n",
            "kelas:X.2\t\n",
            "no.Absen:23 \n"
          ]
        }
      ],
      "source": [
        "print (\"Nama\\t\\t:Sayyidati Ummi\\nkelas:X.2\\t\\nno.Absen:23 \")"
      ]
    },
    {
      "cell_type": "code",
      "execution_count": null,
      "metadata": {
        "colab": {
          "base_uri": "https://localhost:8080/"
        },
        "id": "dKkDojpx6_W_",
        "outputId": "8a15cf5b-625b-408d-9396-3fd09d55b852"
      },
      "outputs": [
        {
          "name": "stdout",
          "output_type": "stream",
          "text": [
            "Jadwal Pelajaran Kelas X.2 - MAN Demak 2025/2026\n",
            "================================================\n",
            "\n",
            "Jam\tSenin\t\tSelasa\t\tRabu\t\tKamis\t\tJumat\t\tSabtu\n",
            "Jam 1\tMat Wajib\tB. Arab\t\tB. Jawa\t\tFisika\t\tMat Wajib\tBiologi\n",
            "Jam 2\tMat Wajib\tB. Arab\t\tB. Jawa\t\tFisika\t\tMat Wajib\tBiologi\n",
            "Jam 3\tB. Indo\t\tPJOK\t\tFikih\t\tSejarah\t\tPend. Pancasila\tEkonomi\n",
            "Jam 4\tB. Indo\t\tPJOK\t\tFikih\t\tSejarah\t\tPend. Pancasila\tEkonomi\n",
            "Jam 5\tB. Arab\t\tB. Indo\t\tKimia\t\tBiologi\t\tSeni Musik\tSKI\n",
            "Jam 6\tB. Arab\t\tB. Indo\t\tKimia\t\tGeografi\t-\t\tSKI\n",
            "Jam 7\tB. Ing\t\tAkidah A.\tSeni Musik\tGeografi\t-\t\tQur'an Hadist\n",
            "Jam 8\tB. Ing\t\tAkidah A.\tPKWU\t\tSosiologi\t-\t\tQur'an Hadist\n",
            "Jam 9\tB. Ing\t\tBK\t\tPKWU\t\tSosiologi\t-\t\tKKA\n",
            "Jam 10\t-\t\t-\t\t-\t\t-\t\t-\t\tKKA\n"
          ]
        }
      ],
      "source": [
        "print(\"Jadwal Pelajaran Kelas X.2 - MAN Demak 2025/2026\")\n",
        "print(\"================================================\\n\")\n",
        "\n",
        "print(\"Jam\\tSenin\\t\\tSelasa\\t\\tRabu\\t\\tKamis\\t\\tJumat\\t\\tSabtu\")\n",
        "\n",
        "print(\"Jam 1\\tMat Wajib\\tB. Arab\\t\\tB. Jawa\\t\\tFisika\\t\\tMat Wajib\\tBiologi\")\n",
        "print(\"Jam 2\\tMat Wajib\\tB. Arab\\t\\tB. Jawa\\t\\tFisika\\t\\tMat Wajib\\tBiologi\")\n",
        "print(\"Jam 3\\tB. Indo\\t\\tPJOK\\t\\tFikih\\t\\tSejarah\\t\\tPend. Pancasila\\tEkonomi\")\n",
        "print(\"Jam 4\\tB. Indo\\t\\tPJOK\\t\\tFikih\\t\\tSejarah\\t\\tPend. Pancasila\\tEkonomi\")\n",
        "print(\"Jam 5\\tB. Arab\\t\\tB. Indo\\t\\tKimia\\t\\tBiologi\\t\\tSeni Musik\\tSKI\")\n",
        "print(\"Jam 6\\tB. Arab\\t\\tB. Indo\\t\\tKimia\\t\\tGeografi\\t-\\t\\tSKI\")\n",
        "print(\"Jam 7\\tB. Ing\\t\\tAkidah A.\\tSeni Musik\\tGeografi\\t-\\t\\tQur\\'an Hadist\")\n",
        "print(\"Jam 8\\tB. Ing\\t\\tAkidah A.\\tPKWU\\t\\tSosiologi\\t-\\t\\tQur\\'an Hadist\")\n",
        "print(\"Jam 9\\tB. Ing\\t\\tBK\\t\\tPKWU\\t\\tSosiologi\\t-\\t\\tKKA\")\n",
        "print(\"Jam 10\\t-\\t\\t-\\t\\t-\\t\\t-\\t\\t-\\t\\tKKA\")"
      ]
    },
    {
      "cell_type": "markdown",
      "metadata": {
        "id": "JqpwxQ53IPaq"
      },
      "source": [
        "# Bagian Baru"
      ]
    },
    {
      "cell_type": "code",
      "execution_count": null,
      "metadata": {
        "colab": {
          "base_uri": "https://localhost:8080/"
        },
        "id": "70swpqLE1Fx3",
        "outputId": "fd9f90f0-30b6-4e91-9e96-c46907d57573"
      },
      "outputs": [
        {
          "name": "stdout",
          "output_type": "stream",
          "text": [
            "Nurul_jielo_Aida_Dani\n"
          ]
        }
      ],
      "source": [
        "nama_siswa_1 = \"Nurul\"\n",
        "nama_siswa_2 = \"jielo\"\n",
        "nama_siswa_3 = \"Aida\"\n",
        "nama_siswa_4 = \"Dani\"\n",
        "\n",
        "print(nama_siswa_1, end=\"_\")\n",
        "print(nama_siswa_2, end=\"_\")\n",
        "print(nama_siswa_3, end=\"_\")\n",
        "print(nama_siswa_4)\n"
      ]
    },
    {
      "cell_type": "code",
      "execution_count": null,
      "metadata": {
        "colab": {
          "base_uri": "https://localhost:8080/"
        },
        "id": "7RJheBkT3hyo",
        "outputId": "e340c3f4-0ceb-4c23-8bcc-5e161de3f9db"
      },
      "outputs": [
        {
          "name": "stdout",
          "output_type": "stream",
          "text": [
            "Hasbi*Naufal*Rendra*Habibi*Naufal\n"
          ]
        }
      ],
      "source": [
        "nama_siswa_5 = \"Hasbi\"\n",
        "nama_siswa_6 = \"Habibi\"\n",
        "nama_siswa_7 = \"Rendra\"\n",
        "nama_siswa_8 = \"Naufal\"\n",
        "\n",
        "print(nama_siswa_5, nama_siswa_8, nama_siswa_7, nama_siswa_6,\n",
        "      nama_siswa_8,  sep=\"*\")"
      ]
    },
    {
      "cell_type": "code",
      "execution_count": null,
      "metadata": {
        "colab": {
          "background_save": true,
          "base_uri": "https://localhost:8080/",
          "height": 211
        },
        "id": "Zb5ss14IAWgz",
        "outputId": "481eeee6-6d9a-4f04-8f66-d9c314ab2a63"
      },
      "outputs": [
        {
          "name": "stdout",
          "output_type": "stream",
          "text": [
            "bu shinta berkata,\"Berikut adalah piket harian kelas x.2 yang di simpan di file D:\\MAN Demak\\Jadwal Piket.\"\n",
            "SENIN\tSELAS\tRABU\n",
            "Jielo\tHasbi\tNaufal\n",
            "Azam\tAida\tNurul\n"
          ]
        }
      ],
      "source": [
        "print('bu shinta berkata,\"Berikut adalah piket harian kelas x.2 yang di simpan di file D:\\\\MAN Demak\\\\Jadwal Piket.\"\\nSENIN\\tSELAS\\tRABU\\nJielo\\tHasbi\\tNaufal\\nAzam\\tAida\\tNurul')"
      ]
    }
  ],
  "metadata": {
    "colab": {
      "provenance": [],
      "toc_visible": true,
      "authorship_tag": "ABX9TyMNyau5rxrr9Mp4Cb52Pa2H",
      "include_colab_link": true
    },
    "kernelspec": {
      "display_name": "Python 3",
      "name": "python3"
    },
    "language_info": {
      "name": "python"
    }
  },
  "nbformat": 4,
  "nbformat_minor": 0
}